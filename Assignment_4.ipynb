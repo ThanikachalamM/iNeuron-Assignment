{
  "nbformat": 4,
  "nbformat_minor": 0,
  "metadata": {
    "colab": {
      "name": "Assignment-4.ipynb",
      "provenance": []
    },
    "kernelspec": {
      "name": "python3",
      "display_name": "Python 3"
    }
  },
  "cells": [
    {
      "cell_type": "code",
      "metadata": {
        "id": "woKE9EnsBBgL"
      },
      "source": [
        ""
      ],
      "execution_count": null,
      "outputs": []
    },
    {
      "cell_type": "markdown",
      "metadata": {
        "id": "7XKs-PFtBIFM"
      },
      "source": [
        "Write a Python Program(with class concepts) to find the area of the triangle using the below formula.\n",
        "area = (s*(s-a)*(s-b)*(s-c)) ** 0.5\n",
        "Function to take the length of the sides of triangle from user should be defined in the parent\n",
        "class and function to calculate the area should be defined in subclass.\n"
      ]
    },
    {
      "cell_type": "code",
      "metadata": {
        "colab": {
          "base_uri": "https://localhost:8080/"
        },
        "id": "0tz9mw4dBNq4",
        "outputId": "9833b0a4-09fd-4a20-ae5f-cec4d95c60cf"
      },
      "source": [
        "import math\n",
        "class poly:\n",
        "    def __init__(self, a, b, c):\n",
        "        self.a = a\n",
        "        self.b = b\n",
        "        self.c = c\n",
        "        self.area = 0\n",
        "\n",
        "class triangle(poly):\n",
        "    def __init__(self, a, b, c):\n",
        "        poly.__init__(self, a, b, c)\n",
        "\n",
        "    def calculate_area(self):\n",
        "        s = (self.a + self.b + self.c) / 2\n",
        "        self.area = math.sqrt(s*(s - self.a)*(s - self.b)*(s - self.c))\n",
        "\n",
        "    def get_area(self):\n",
        "        return self.area     \n",
        "\n",
        "if __name__ == \"__main__\":\n",
        "    a, b, c = float(input(\"a = \")), float(input(\"b = \")), float(input(\"c = \"))\n",
        "    if (a+b>c) and (b+c>a) and (a+c>b): \n",
        "        t = triangle(a, b, c)\n",
        "        t.calculate_area()\n",
        "        print(\"The area of the triangle is: {}\".format(t.get_area()))\n",
        "                       \n",
        "    else:\n",
        "        print(\"{x},{y},{z} not the right triangle proportions\".format(x=a,y=b,z=c))\n",
        "    \n",
        "    \n",
        "    "
      ],
      "execution_count": 2,
      "outputs": [
        {
          "output_type": "stream",
          "text": [
            "a = 2\n",
            "b = 2\n",
            "c = 2\n",
            "The area of the triangle is: 1.7320508075688772\n"
          ],
          "name": "stdout"
        }
      ]
    },
    {
      "cell_type": "markdown",
      "metadata": {
        "id": "gJMSIpfGBg5X"
      },
      "source": [
        "Write a python program with function that takes a list of words and an integer n and returns the list of words that are longer than n."
      ]
    },
    {
      "cell_type": "code",
      "metadata": {
        "colab": {
          "base_uri": "https://localhost:8080/"
        },
        "id": "CVsZblHSBog2",
        "outputId": "9e0053b9-43c8-4651-97b8-4992d0b0ca32"
      },
      "source": [
        "def filter_long_words(n, wlst):  \n",
        "    word_len = []  \n",
        "    for x in wlst:  \n",
        "        if len(x) > n:  \n",
        "            word_len.append(x)  \n",
        "    return word_len  \n",
        "\n",
        "\n",
        "word_list=input(\"Please enter your word with ',' : \")\n",
        "length = int(input(\"Enter the world length: \"))\n",
        "word_list=word_list.split(\",\")\n",
        "\n",
        "long_word=filter_long_words(length,word_list)\n",
        "print(\"Output:\")\n",
        "print(\"The word length greater than {a} is :\".format(a=length))\n",
        "print(long_word)\n"
      ],
      "execution_count": 3,
      "outputs": [
        {
          "output_type": "stream",
          "text": [
            "Please enter your word with ',' : the,fdgf,gfr,thanika,chalam,bye,mannanga\n",
            "Enter the world length: 5\n",
            "Output:\n",
            "The word length greater than 5 is :\n",
            "['thanika', 'chalam', 'mannanga']\n"
          ],
          "name": "stdout"
        }
      ]
    },
    {
      "cell_type": "markdown",
      "metadata": {
        "id": "7dP7Ys5RB4rf"
      },
      "source": [
        "Write a Python program using function concept that maps list of words into a list of integers representing the lengths of the corresponding words.\n",
        "Hint: If a list [ ab,cde,erty] is passed on to the python function output should come as [2,3,4]\n",
        "Here 2,3 and 4 are the lengths of the words in the list.\n"
      ]
    },
    {
      "cell_type": "code",
      "metadata": {
        "colab": {
          "base_uri": "https://localhost:8080/"
        },
        "id": "5hEdCR70B_sT",
        "outputId": "5e133ff2-b36b-447b-9813-b91f95f31298"
      },
      "source": [
        "def find_length(wlst):  \n",
        "    word_len = []  \n",
        "    for x in wlst:  \n",
        "        word_len.append(len(x))  \n",
        "    return word_len  \n",
        "\n",
        "\n",
        "word_list=input(\"Please enter your word with ',' : \")\n",
        "word_list=word_list.split(\",\")\n",
        "\n",
        "long_word=find_length(word_list)\n",
        "print(\"Output:\")\n",
        "print(\"The word length :\", long_word)\n"
      ],
      "execution_count": 4,
      "outputs": [
        {
          "output_type": "stream",
          "text": [
            "Please enter your word with ',' : the,hhhh,jgfd,thanika,jhgh,qaz,chalam\n",
            "Output:\n",
            "The word length : [3, 4, 4, 7, 4, 3, 6]\n"
          ],
          "name": "stdout"
        }
      ]
    },
    {
      "cell_type": "markdown",
      "metadata": {
        "id": "O-Vz2y_5CSxO"
      },
      "source": [
        "Write a Python function which takes a character (i.e. a string of length 1) and returns True if it is a vowel, False otherwise."
      ]
    },
    {
      "cell_type": "code",
      "metadata": {
        "colab": {
          "base_uri": "https://localhost:8080/"
        },
        "id": "tNoFPNaUCY2D",
        "outputId": "bf22aced-b469-40d5-95f6-d985aa53dfac"
      },
      "source": [
        "def is_vowel(char):\n",
        "    all_vowels = 'aeiou'\n",
        "    return char in all_vowels\n",
        "print(is_vowel(input(\"Enter the character: \")))\n"
      ],
      "execution_count": 5,
      "outputs": [
        {
          "output_type": "stream",
          "text": [
            "Enter the character: t\n",
            "False\n"
          ],
          "name": "stdout"
        }
      ]
    }
  ]
}