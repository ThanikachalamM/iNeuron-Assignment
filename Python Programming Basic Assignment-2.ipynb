{
 "cells": [
  {
   "cell_type": "code",
   "execution_count": 1,
   "id": "smaller-alert",
   "metadata": {},
   "outputs": [
    {
     "name": "stdout",
     "output_type": "stream",
     "text": [
      "Enter value in kilometers: 5\n",
      "5.00 kilometers is equal to 3.11 miles\n"
     ]
    }
   ],
   "source": [
    "#1.Write a Python program to convert kilometers to miles?\n",
    "# Taking kilometers input from the user\n",
    "kilometers = float(input(\"Enter value in kilometers: \"))\n",
    "\n",
    "# conversion factor\n",
    "conv_fac = 0.621371\n",
    "\n",
    "# calculate miles\n",
    "miles = kilometers * conv_fac\n",
    "print('%0.2f kilometers is equal to %0.2f miles' %(kilometers,miles))"
   ]
  },
  {
   "cell_type": "code",
   "execution_count": 2,
   "id": "fallen-labor",
   "metadata": {},
   "outputs": [
    {
     "name": "stdout",
     "output_type": "stream",
     "text": [
      "Enter temperature in celsius: 32\n",
      "32.00 Celsius is: 89.60 Fahrenheit\n"
     ]
    }
   ],
   "source": [
    "#2.Write a Python program to convert Celsius to Fahrenheit?\n",
    "celsius = float(input(\"Enter temperature in celsius: \"))\n",
    "fahrenheit = (celsius * 9/5) + 32\n",
    "print('%.2f Celsius is: %0.2f Fahrenheit' %(celsius, fahrenheit))"
   ]
  },
  {
   "cell_type": "code",
   "execution_count": 3,
   "id": "fluid-madison",
   "metadata": {},
   "outputs": [
    {
     "name": "stdout",
     "output_type": "stream",
     "text": [
      "Enter year: 2021\n",
      "Enter month: 3\n",
      "     March 2021\n",
      "Mo Tu We Th Fr Sa Su\n",
      " 1  2  3  4  5  6  7\n",
      " 8  9 10 11 12 13 14\n",
      "15 16 17 18 19 20 21\n",
      "22 23 24 25 26 27 28\n",
      "29 30 31\n",
      "\n"
     ]
    }
   ],
   "source": [
    "#3.Write a Python program to display calendar?\n",
    "# Program to display calendar of the given month and year\n",
    "# importing calendar module\n",
    "import calendar\n",
    "\n",
    "# To take month and year input from the user\n",
    "yy = int(input(\"Enter year: \"))\n",
    "mm = int(input(\"Enter month: \"))\n",
    "\n",
    "# display the calendar\n",
    "print(calendar.month(yy, mm))"
   ]
  },
  {
   "cell_type": "code",
   "execution_count": 6,
   "id": "changed-painting",
   "metadata": {},
   "outputs": [
    {
     "name": "stdout",
     "output_type": "stream",
     "text": [
      " real and different roots \n",
      "2.0\n",
      "-12.0\n"
     ]
    }
   ],
   "source": [
    "#4.Write a Python program to solve quadratic equation?\n",
    "# Python program to find roots of quadratic equation \n",
    "import math \n",
    "\n",
    "\n",
    "# function for finding roots \n",
    "def equationroots( a, b, c): \n",
    "\n",
    "    # calculating discriminant using formula \n",
    "    dis = b * b - 4 * a * c \n",
    "    sqrt_val = math.sqrt(abs(dis)) \n",
    "    \n",
    "    # checking condition for discriminant \n",
    "    if dis > 0: \n",
    "        print(\" real and different roots \") \n",
    "        print((-b + sqrt_val)/(2 * a)) \n",
    "        print((-b - sqrt_val)/(2 * a)) \n",
    "\n",
    "    elif dis == 0: \n",
    "        print(\" real and same roots\") \n",
    "        print(-b / (2 * a)) \n",
    "\n",
    "    # when discriminant is less than 0 \n",
    "    else: \n",
    "        print(\"Complex Roots\") \n",
    "        print(- b / (2 * a), \" + i\", sqrt_val) \n",
    "        print(- b / (2 * a), \" - i\", sqrt_val) \n",
    "\n",
    "# Driver Program \n",
    "a = 1\n",
    "b = 10\n",
    "c = -24\n",
    "\n",
    "# If a is 0, then incorrect equation \n",
    "if a == 0: \n",
    "        print(\"Input correct quadratic equation\") \n",
    "\n",
    "else: \n",
    "    equationroots(a, b, c) \n"
   ]
  },
  {
   "cell_type": "code",
   "execution_count": 7,
   "id": "statistical-prisoner",
   "metadata": {},
   "outputs": [
    {
     "name": "stdout",
     "output_type": "stream",
     "text": [
      "Enter two numbers for swap with space separator : 5 4\n",
      "Before swap: 5 4\n",
      "After swap: 4 5\n"
     ]
    }
   ],
   "source": [
    "#5.Write a Python program to swap two variables without temp variable?\n",
    "x,y=input(\"Enter two numbers for swap with space separator : \").split(\" \")\n",
    "print(\"Before swap:\",x,y)\n",
    "x, y = y, x\n",
    "print(\"After swap:\",x,y)\n",
    "\n"
   ]
  },
  {
   "cell_type": "code",
   "execution_count": 9,
   "id": "raised-effects",
   "metadata": {},
   "outputs": [
    {
     "name": "stdout",
     "output_type": "stream",
     "text": [
      "Enter two numbers for swap with space separator : 6 7\n",
      "Before swap: 6 7\n",
      "After swap: 7 6\n"
     ]
    }
   ],
   "source": [
    "# Other method for two numbers swap--- Addition and Subtraction\n",
    "x,y=input(\"Enter two numbers for swap with space separator : \").split(\" \")\n",
    "x=int(x)\n",
    "y=int(y)\n",
    "print(\"Before swap:\",x,y)\n",
    "x = x + y\n",
    "y = x - y\n",
    "x = x - y\n",
    "print(\"After swap:\",x,y)"
   ]
  },
  {
   "cell_type": "code",
   "execution_count": 12,
   "id": "cooperative-chicken",
   "metadata": {},
   "outputs": [
    {
     "name": "stdout",
     "output_type": "stream",
     "text": [
      "Enter two numbers for swap with space separator : 7 8\n",
      "Before swap: 7 8\n",
      "After swap: 8 7\n"
     ]
    }
   ],
   "source": [
    "# Other method for two numbers swap--- Multiplication and Division\n",
    "x,y=input(\"Enter two numbers for swap with space separator : \").split(\" \")\n",
    "x=int(x)\n",
    "y=int(y)\n",
    "print(\"Before swap:\",x,y)\n",
    "x = x * y\n",
    "y = x // y\n",
    "x = x // y\n",
    "print(\"After swap:\",x,y)"
   ]
  },
  {
   "cell_type": "code",
   "execution_count": 13,
   "id": "responsible-saver",
   "metadata": {},
   "outputs": [
    {
     "name": "stdout",
     "output_type": "stream",
     "text": [
      "Enter two numbers for swap with space separator : 7 8\n",
      "Before swap: 7 8\n",
      "After swap: 8 7\n"
     ]
    }
   ],
   "source": [
    "# Other method for two numbers swap--- XOR\n",
    "x,y=input(\"Enter two numbers for swap with space separator : \").split(\" \")\n",
    "x=int(x)\n",
    "y=int(y)\n",
    "print(\"Before swap:\",x,y)\n",
    "x = x ^ y\n",
    "y = x ^ y\n",
    "x = x ^ y\n",
    "print(\"After swap:\",x,y)"
   ]
  },
  {
   "cell_type": "code",
   "execution_count": null,
   "id": "junior-stamp",
   "metadata": {},
   "outputs": [],
   "source": []
  }
 ],
 "metadata": {
  "kernelspec": {
   "display_name": "Python 3",
   "language": "python",
   "name": "python3"
  },
  "language_info": {
   "codemirror_mode": {
    "name": "ipython",
    "version": 3
   },
   "file_extension": ".py",
   "mimetype": "text/x-python",
   "name": "python",
   "nbconvert_exporter": "python",
   "pygments_lexer": "ipython3",
   "version": "3.8.8"
  }
 },
 "nbformat": 4,
 "nbformat_minor": 5
}
