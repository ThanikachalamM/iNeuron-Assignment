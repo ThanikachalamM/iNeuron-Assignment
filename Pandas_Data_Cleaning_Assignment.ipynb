{
  "nbformat": 4,
  "nbformat_minor": 0,
  "metadata": {
    "colab": {
      "name": "Pandas Data Cleaning Assignment.ipynb",
      "provenance": []
    },
    "kernelspec": {
      "name": "python3",
      "display_name": "Python 3"
    }
  },
  "cells": [
    {
      "cell_type": "code",
      "metadata": {
        "id": "xOpl4Z4Colk8"
      },
      "source": [
        ""
      ],
      "execution_count": null,
      "outputs": []
    },
    {
      "cell_type": "markdown",
      "metadata": {
        "id": "ge9tw-PBo1XD"
      },
      "source": [
        "#Take this monstrosity as the DataFrame to use in the following puzzles:\r\n",
        "#Assignment Data Cleaning"
      ]
    },
    {
      "cell_type": "code",
      "metadata": {
        "colab": {
          "base_uri": "https://localhost:8080/"
        },
        "id": "6tdVka22o3D5",
        "outputId": "a2380913-c648-45de-f9ca-4b2207212244"
      },
      "source": [
        "import numpy as np\r\n",
        "import pandas as pd\r\n",
        "df = pd.DataFrame({'From_To': ['LoNDon_paris', 'MAdrid_miLAN', 'londON_StockhOlm', \r\n",
        "                               'Budapest_PaRis', 'Brussels_londOn'],\r\n",
        "              'FlightNumber': [10045, np.nan, 10065, np.nan, 10085],\r\n",
        "              'RecentDelays': [[23, 47], [], [24, 43, 87], [13], [67, 32]],\r\n",
        "                   'Airline': ['KLM(!)', '<Air France> (12)', '(British Airways. )', \r\n",
        "                               '12. Air France', '\"Swiss Air\"']})\r\n",
        "print(df)"
      ],
      "execution_count": 1,
      "outputs": [
        {
          "output_type": "stream",
          "text": [
            "            From_To  FlightNumber  RecentDelays              Airline\n",
            "0      LoNDon_paris       10045.0      [23, 47]               KLM(!)\n",
            "1      MAdrid_miLAN           NaN            []    <Air France> (12)\n",
            "2  londON_StockhOlm       10065.0  [24, 43, 87]  (British Airways. )\n",
            "3    Budapest_PaRis           NaN          [13]       12. Air France\n",
            "4   Brussels_londOn       10085.0      [67, 32]          \"Swiss Air\"\n"
          ],
          "name": "stdout"
        }
      ]
    },
    {
      "cell_type": "markdown",
      "metadata": {
        "id": "c5phOzlWpKIr"
      },
      "source": [
        "1. Some values in the the FlightNumber column are missing. These numbers are\r\n",
        "meant to increase by 10 with each row so 10055 and 10075 need to be put in\r\n",
        "place. Fill in these missing numbers and make the column an integer column\r\n",
        "(instead of a float column).\r\n",
        "#Assignment  Q1"
      ]
    },
    {
      "cell_type": "code",
      "metadata": {
        "colab": {
          "base_uri": "https://localhost:8080/"
        },
        "id": "FGd63U_ZpPbv",
        "outputId": "c44b5a77-c345-47b8-e5f0-42298a650c4e"
      },
      "source": [
        "df['FlightNumber'] = df['FlightNumber'].interpolate().astype(int)\r\n",
        "\r\n",
        "print(df['FlightNumber'])"
      ],
      "execution_count": 2,
      "outputs": [
        {
          "output_type": "stream",
          "text": [
            "0    10045\n",
            "1    10055\n",
            "2    10065\n",
            "3    10075\n",
            "4    10085\n",
            "Name: FlightNumber, dtype: int64\n"
          ],
          "name": "stdout"
        }
      ]
    },
    {
      "cell_type": "markdown",
      "metadata": {
        "id": "hzSnXdmepb4K"
      },
      "source": [
        "2. The From_To column would be better as two separate columns! Split each\r\n",
        "string on the underscore delimiter _ to give a new temporary DataFrame with\r\n",
        "the correct values. Assign the correct column names to this temporary\r\n",
        "DataFrame.\r\n",
        "#Assignment  Q2"
      ]
    },
    {
      "cell_type": "code",
      "metadata": {
        "colab": {
          "base_uri": "https://localhost:8080/"
        },
        "id": "q1Qrbu8cpsIh",
        "outputId": "706bbca6-576e-401e-dfbf-2ae35d4ec26f"
      },
      "source": [
        "temp = df[\"From_To\"].str.split('_', expand=True)\r\n",
        "temp.columns = ['From', 'To']\r\n",
        "print(temp)"
      ],
      "execution_count": 3,
      "outputs": [
        {
          "output_type": "stream",
          "text": [
            "       From         To\n",
            "0    LoNDon      paris\n",
            "1    MAdrid      miLAN\n",
            "2    londON  StockhOlm\n",
            "3  Budapest      PaRis\n",
            "4  Brussels     londOn\n"
          ],
          "name": "stdout"
        }
      ]
    },
    {
      "cell_type": "markdown",
      "metadata": {
        "id": "cN_lLef0p3N4"
      },
      "source": [
        "3. Notice how the capitalisation of the city names is all mixed up in this\r\n",
        "temporary DataFrame. Standardise the strings so that only the first letter is\r\n",
        "uppercase (e.g. \"londON\" should become \"London\".)\r\n",
        "\r\n",
        "#Assignment Q3"
      ]
    },
    {
      "cell_type": "code",
      "metadata": {
        "id": "yYNrVIJJqCpo"
      },
      "source": [
        ""
      ],
      "execution_count": null,
      "outputs": []
    },
    {
      "cell_type": "code",
      "metadata": {
        "colab": {
          "base_uri": "https://localhost:8080/"
        },
        "id": "d3o7cuu4qCrA",
        "outputId": "00c9c0ac-7637-4220-b375-7aa413ed2b81"
      },
      "source": [
        "temp['From'] = temp['From'].str.capitalize()\r\n",
        "temp['To'] = temp['To'].str.capitalize()\r\n",
        "print(temp)"
      ],
      "execution_count": 4,
      "outputs": [
        {
          "output_type": "stream",
          "text": [
            "       From         To\n",
            "0    London      Paris\n",
            "1    Madrid      Milan\n",
            "2    London  Stockholm\n",
            "3  Budapest      Paris\n",
            "4  Brussels     London\n"
          ],
          "name": "stdout"
        }
      ]
    },
    {
      "cell_type": "markdown",
      "metadata": {
        "id": "QuI2uVPbqMsZ"
      },
      "source": [
        "4. Delete the From_To column from df and attach the temporary DataFrame\r\n",
        "from the previous questions.\r\n",
        "#Assignment Q4"
      ]
    },
    {
      "cell_type": "code",
      "metadata": {
        "colab": {
          "base_uri": "https://localhost:8080/"
        },
        "id": "0zD0zNuJqZGL",
        "outputId": "a4a9aee1-e193-47e2-f78e-197d756ccfdd"
      },
      "source": [
        "df = df.drop('From_To', axis=1)\r\n",
        "df = df.join(temp)\r\n",
        "print(df)\r\n"
      ],
      "execution_count": 5,
      "outputs": [
        {
          "output_type": "stream",
          "text": [
            "   FlightNumber  RecentDelays              Airline      From         To\n",
            "0         10045      [23, 47]               KLM(!)    London      Paris\n",
            "1         10055            []    <Air France> (12)    Madrid      Milan\n",
            "2         10065  [24, 43, 87]  (British Airways. )    London  Stockholm\n",
            "3         10075          [13]       12. Air France  Budapest      Paris\n",
            "4         10085      [67, 32]          \"Swiss Air\"  Brussels     London\n"
          ],
          "name": "stdout"
        }
      ]
    },
    {
      "cell_type": "markdown",
      "metadata": {
        "id": "p51j0g3aqwj6"
      },
      "source": [
        "5. In the RecentDelays column, the values have been entered into the\r\n",
        "DataFrame as a list. We would like each first value in its own column, each\r\n",
        "second value in its own column, and so on. If there isn't an Nth value, the value\r\n",
        "should be NaN.\r\n",
        "Expand the Series of lists into a DataFrame named delays, rename the columns\r\n",
        "delay_1, delay_2, etc. and replace the unwanted RecentDelays column in df\r\n",
        "with delays.\r\n",
        "#Assignment Q5"
      ]
    },
    {
      "cell_type": "code",
      "metadata": {
        "colab": {
          "base_uri": "https://localhost:8080/"
        },
        "id": "kJSznsG-q2Jd",
        "outputId": "74a84201-5209-453e-dbce-e66b466f3a1b"
      },
      "source": [
        "delays = df['RecentDelays'].apply(pd.Series)\r\n",
        "delays.columns = ['delay_{}'.format(n) for n in range(1, len(delays.columns)+1)]\r\n",
        "df = df.drop('RecentDelays', axis=1).join(delays)\r\n",
        "print(df)"
      ],
      "execution_count": 6,
      "outputs": [
        {
          "output_type": "stream",
          "text": [
            "   FlightNumber              Airline      From  ... delay_1  delay_2  delay_3\n",
            "0         10045               KLM(!)    London  ...    23.0     47.0      NaN\n",
            "1         10055    <Air France> (12)    Madrid  ...     NaN      NaN      NaN\n",
            "2         10065  (British Airways. )    London  ...    24.0     43.0     87.0\n",
            "3         10075       12. Air France  Budapest  ...    13.0      NaN      NaN\n",
            "4         10085          \"Swiss Air\"  Brussels  ...    67.0     32.0      NaN\n",
            "\n",
            "[5 rows x 7 columns]\n"
          ],
          "name": "stdout"
        }
      ]
    }
  ]
}