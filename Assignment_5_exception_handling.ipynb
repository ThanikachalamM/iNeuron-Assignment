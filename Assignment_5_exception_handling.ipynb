{
  "nbformat": 4,
  "nbformat_minor": 0,
  "metadata": {
    "colab": {
      "name": "Assignment-5 exception handling.ipynb",
      "provenance": []
    },
    "kernelspec": {
      "name": "python3",
      "display_name": "Python 3"
    }
  },
  "cells": [
    {
      "cell_type": "code",
      "metadata": {
        "id": "8wSRmvEmYVUX"
      },
      "source": [
        ""
      ],
      "execution_count": null,
      "outputs": []
    },
    {
      "cell_type": "markdown",
      "metadata": {
        "id": "-c-dJQJdYcKk"
      },
      "source": [
        "Write a function to compute 5/0 and use try/except to catch the exceptions"
      ]
    },
    {
      "cell_type": "code",
      "metadata": {
        "colab": {
          "base_uri": "https://localhost:8080/"
        },
        "id": "8-OhwQksYfYr",
        "outputId": "75d8d5a3-59fa-4389-a869-d532466c5b5b"
      },
      "source": [
        "def divide():\r\n",
        "    return 5/0\r\n",
        "\r\n",
        "try:\r\n",
        "    divide()\r\n",
        "except ZeroDivisionError as ZDE:\r\n",
        "    print(\"You are dividing a number by ZERO!!\")\r\n",
        "    print(ZDE)\r\n",
        "except:\r\n",
        "    print(\"Any other exception\")"
      ],
      "execution_count": 1,
      "outputs": [
        {
          "output_type": "stream",
          "text": [
            "You are dividing a number by ZERO!!\n",
            "division by zero\n"
          ],
          "name": "stdout"
        }
      ]
    },
    {
      "cell_type": "markdown",
      "metadata": {
        "id": "ln7XtUPmYn4j"
      },
      "source": [
        "Implement a Python program to generate all sentences where subject is in\r\n",
        "[\"Americans\", \"Indians\"] and verb is in [\"Play\", \"watch\"] and the object is in\r\n",
        "[\"Baseball\",\"cricket\"].\r\n",
        "Hint: Subject,Verb and Object should be declared in the program as shown below.\r\n",
        "subjects=[\"Americans \",\"Indians\"]\r\n",
        "verbs=[\"play\",\"watch\"]\r\n",
        "objects=[\"Baseball\",\"Cricket\"]\r\n",
        "Output should come as below:\r\n",
        "Americans play Baseball.\r\n",
        "Americans play Cricket.\r\n",
        "Americans watch Baseball.\r\n",
        "Americans watch Cricket.\r\n",
        "Indians play Baseball.\r\n",
        "Indians play Cricket.\r\n",
        "Indians watch Baseball.\r\n",
        "Indians watch Cricket."
      ]
    },
    {
      "cell_type": "markdown",
      "metadata": {
        "id": "mg-Qm3iRYwdx"
      },
      "source": [
        "Method -1"
      ]
    },
    {
      "cell_type": "code",
      "metadata": {
        "colab": {
          "base_uri": "https://localhost:8080/"
        },
        "id": "cgBGGSrPYpFK",
        "outputId": "59d3c553-9a79-4a5b-90dc-7e82b82fc8db"
      },
      "source": [
        "Subject=['Americans', 'Indians']\r\n",
        "Verb=['play', 'watch'] \r\n",
        "Object=['Baseball', 'Cricket']\r\n",
        "\r\n",
        "All_sentences=[(sub +\" \"+ ver +\" \" + obj) \r\n",
        "               for sub in Subject\r\n",
        "                   for ver in Verb\r\n",
        "                       for obj in Object] \r\n",
        "for sentence in All_sentences: \r\n",
        "    print(sentence)"
      ],
      "execution_count": 2,
      "outputs": [
        {
          "output_type": "stream",
          "text": [
            "Americans play Baseball\n",
            "Americans play Cricket\n",
            "Americans watch Baseball\n",
            "Americans watch Cricket\n",
            "Indians play Baseball\n",
            "Indians play Cricket\n",
            "Indians watch Baseball\n",
            "Indians watch Cricket\n"
          ],
          "name": "stdout"
        }
      ]
    },
    {
      "cell_type": "markdown",
      "metadata": {
        "id": "BID5v4wrY68y"
      },
      "source": [
        "Method - 2"
      ]
    },
    {
      "cell_type": "code",
      "metadata": {
        "colab": {
          "base_uri": "https://localhost:8080/"
        },
        "id": "PteLGEv_Y9Sj",
        "outputId": "33c4e4eb-7d6d-4fa1-daa8-52f6b0128ac2"
      },
      "source": [
        "class Svo: \r\n",
        "   def __init__(self, subject, verb, object): \r\n",
        "        self.subject = subject \r\n",
        "        self.verb = verb \r\n",
        "        self.object = object\r\n",
        "\r\n",
        "   def displaySvo(self, subject, verb, object): \r\n",
        "       print (self.subject, self.verb, self.object)\r\n",
        "\r\n",
        "subjects=[\"Americans \",\"Indians\"] \r\n",
        "verbs=[\"play\",\"watch\"] \r\n",
        "objects=[\"Baseball\",\"Cricket\"]\r\n",
        "\r\n",
        "for x in subjects: \r\n",
        "    for y in verbs: \r\n",
        "        for z in objects: \r\n",
        "           s= Svo(x, y, z) \r\n",
        "           s.displaySvo(x,y,z)"
      ],
      "execution_count": 3,
      "outputs": [
        {
          "output_type": "stream",
          "text": [
            "Americans  play Baseball\n",
            "Americans  play Cricket\n",
            "Americans  watch Baseball\n",
            "Americans  watch Cricket\n",
            "Indians play Baseball\n",
            "Indians play Cricket\n",
            "Indians watch Baseball\n",
            "Indians watch Cricket\n"
          ],
          "name": "stdout"
        }
      ]
    }
  ]
}