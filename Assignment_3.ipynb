{
  "nbformat": 4,
  "nbformat_minor": 0,
  "metadata": {
    "colab": {
      "name": "Assignment-3.ipynb",
      "provenance": []
    },
    "kernelspec": {
      "name": "python3",
      "display_name": "Python 3"
    }
  },
  "cells": [
    {
      "cell_type": "code",
      "metadata": {
        "id": "SmG0_5D1gTf9"
      },
      "source": [
        ""
      ],
      "execution_count": null,
      "outputs": []
    },
    {
      "cell_type": "markdown",
      "metadata": {
        "id": "L9FNX4xlgcvR"
      },
      "source": [
        "1.1 Write a Python Program to implement your own myreduce() function which works exactly\n",
        "like Python's built-in function reduce()\n"
      ]
    },
    {
      "cell_type": "code",
      "metadata": {
        "colab": {
          "base_uri": "https://localhost:8080/"
        },
        "id": "XHNuLJpogjI6",
        "outputId": "b1f2e7e3-9b2d-40b9-d5bc-ec3e01428e4f"
      },
      "source": [
        "#Squares of first odd natural numbers.\n",
        "\n",
        "def myreduce(num):\n",
        "    '''this function will return Squares of first odd natural numbers'''\n",
        "    num_list1=list(range(1,number+1,2))\n",
        "    num_list=[x*x for x in range(1,number+1,2)]\n",
        "    sum_of_elements=0\n",
        "    \n",
        "    for i in num_list:\n",
        "        sum_of_elements+=i\n",
        "        \n",
        "    return num_list1,num_list,sum_of_elements\n",
        "\n",
        "\n",
        "print(\"Input:\")\n",
        "number=int(input(\"Please enter the number :\"))\n",
        "\n",
        "output_value=myreduce(number)\n",
        "\n",
        "print(\"Output:\")\n",
        "print(\"List of odd numbers are till {a}:\". format(a=number),output_value[0])\n",
        "print(\"List of odd numbers - SQUARE's are:\",output_value[1])\n",
        "print(\"Sum of squares of odd numbers are :\",output_value[2])\n"
      ],
      "execution_count": 1,
      "outputs": [
        {
          "output_type": "stream",
          "text": [
            "Input:\n",
            "Please enter the number :25\n",
            "Output:\n",
            "List of odd numbers are till 25: [1, 3, 5, 7, 9, 11, 13, 15, 17, 19, 21, 23, 25]\n",
            "List of odd numbers - SQUARE's are: [1, 9, 25, 49, 81, 121, 169, 225, 289, 361, 441, 529, 625]\n",
            "Sum of squares of odd numbers are : 2925\n"
          ],
          "name": "stdout"
        }
      ]
    },
    {
      "cell_type": "markdown",
      "metadata": {
        "id": "8STpgybmg0t9"
      },
      "source": [
        "# Same Solution can be approached by Built-in reduce() function\n"
      ]
    },
    {
      "cell_type": "code",
      "metadata": {
        "colab": {
          "base_uri": "https://localhost:8080/"
        },
        "id": "IFGcUmoJg90X",
        "outputId": "a8a0fc19-dfd7-455e-9e2e-0d28cebf0026"
      },
      "source": [
        "# Same Solution can be approached by Built-in reduce() function\n",
        "\n",
        "print(\"Input:\")\n",
        "number=int(input(\"Please insert the number :\"))\n",
        "\n",
        "num_list1= list(range(1,(number+1)))\n",
        "num_list=[x*x for x in range(1,number+1,2)]\n",
        "# Import reduce function \n",
        "from functools import reduce\n",
        "sum_of_elements = reduce((lambda x, y: x + y), num_list)\n",
        "\n",
        "#Output\n",
        "\n",
        "print(\"List of odd numbers are till {a}:\". format(a=number),num_list1)\n",
        "print(\"List of odd numbers - SQUARE's are:\",num_list)\n",
        "print(\"Sum of squares of odd numbers are :\",sum_of_elements)\n"
      ],
      "execution_count": 2,
      "outputs": [
        {
          "output_type": "stream",
          "text": [
            "Input:\n",
            "Please insert the number :25\n",
            "List of odd numbers are till 25: [1, 2, 3, 4, 5, 6, 7, 8, 9, 10, 11, 12, 13, 14, 15, 16, 17, 18, 19, 20, 21, 22, 23, 24, 25]\n",
            "List of odd numbers - SQUARE's are: [1, 9, 25, 49, 81, 121, 169, 225, 289, 361, 441, 529, 625]\n",
            "Sum of squares of odd numbers are : 2925\n"
          ],
          "name": "stdout"
        }
      ]
    },
    {
      "cell_type": "markdown",
      "metadata": {
        "id": "S25SyYOWhITm"
      },
      "source": [
        "1.2 Write a Python program to implement your own myfilter() function which works exactly\n",
        "like Python's built-in function filter()\n"
      ]
    },
    {
      "cell_type": "code",
      "metadata": {
        "colab": {
          "base_uri": "https://localhost:8080/"
        },
        "id": "VADrbQLlhOVv",
        "outputId": "a91e5d48-719c-4d76-89f6-eccf3f700025"
      },
      "source": [
        "# Filter the even and odd number from list which are multiples  of 3\n",
        "\n",
        "#Input \n",
        "\n",
        "print(\"Input:\")\n",
        "number=int(input(\"Please insert the number: \"))\n",
        "\n",
        "num_list=list(range(1,number+1))\n",
        "\n",
        "\n",
        "def myfilter(num_list):\n",
        "    '''This function will filter even and odd numbers from list which are multiples of 3 '''\n",
        "    num_even_list=[]\n",
        "    num_odd_list=[]\n",
        "    \n",
        "    for i in num_list:\n",
        "        if(i%3==0):\n",
        "            if(i%2==0):\n",
        "                num_even_list.append(i)\n",
        "            else:\n",
        "                num_odd_list.append(i)\n",
        "                \n",
        "    return num_even_list,num_odd_list\n",
        "\n",
        "\n",
        "#Function Execution\n",
        "output_value=myfilter(num_list)\n",
        "\n",
        "#Output\n",
        "\n",
        "print(\"Output:\")\n",
        "print(\"List of numbers:\",num_list)\n",
        "print(\"List of Even numbers, which are multiples of 5 are:\",output_value[0])\n",
        "print(\"List of Odd numbers, which are multiples of 5 are:\",output_value[1])"
      ],
      "execution_count": 3,
      "outputs": [
        {
          "output_type": "stream",
          "text": [
            "Input:\n",
            "Please insert the number: 29\n",
            "Output:\n",
            "List of numbers: [1, 2, 3, 4, 5, 6, 7, 8, 9, 10, 11, 12, 13, 14, 15, 16, 17, 18, 19, 20, 21, 22, 23, 24, 25, 26, 27, 28, 29]\n",
            "List of Even numbers, which are multiples of 5 are: [6, 12, 18, 24]\n",
            "List of Odd numbers, which are multiples of 5 are: [3, 9, 15, 21, 27]\n"
          ],
          "name": "stdout"
        }
      ]
    },
    {
      "cell_type": "markdown",
      "metadata": {
        "id": "rRcBfBMvhuAn"
      },
      "source": [
        "#Same solution can be approached by built-in filter() function"
      ]
    },
    {
      "cell_type": "code",
      "metadata": {
        "colab": {
          "base_uri": "https://localhost:8080/"
        },
        "id": "l0srGdvoh1YW",
        "outputId": "452ec2a9-da53-4b1f-c27e-54187c61ee6b"
      },
      "source": [
        "\n",
        "print(\"Input:\")\n",
        "number=int(input(\"Please insert the number: \"))\n",
        "\n",
        "num_list=list(range(1,number+1))\n",
        "\n",
        "num_even_list=list(filter(lambda x: x%2==0,list(filter(lambda x: x%3==0 ,num_list))))\n",
        "num_odd_list= list(filter(lambda x: x%2!=0,list(filter(lambda x: x%3==0 ,num_list))))\n",
        "\n",
        "print(\"Output:\")\n",
        "\n",
        "print(\"List of numbers:\",num_list)\n",
        "print(\"List of Even numbers, which are multiples of 5 are:\",num_even_list)\n",
        "print(\"List of Odd numbers, which are multiples of 5 are:\",num_odd_list)"
      ],
      "execution_count": 4,
      "outputs": [
        {
          "output_type": "stream",
          "text": [
            "Input:\n",
            "Please insert the number: 29\n",
            "Output:\n",
            "List of numbers: [1, 2, 3, 4, 5, 6, 7, 8, 9, 10, 11, 12, 13, 14, 15, 16, 17, 18, 19, 20, 21, 22, 23, 24, 25, 26, 27, 28, 29]\n",
            "List of Even numbers, which are multiples of 5 are: [6, 12, 18, 24]\n",
            "List of Odd numbers, which are multiples of 5 are: [3, 9, 15, 21, 27]\n"
          ],
          "name": "stdout"
        }
      ]
    },
    {
      "cell_type": "markdown",
      "metadata": {
        "id": "Ayd0miuAiCki"
      },
      "source": [
        "Problem_2. Implement List comprehensions to produce the following lists. Write List comprehensions to produce the following Lists ['A', 'C', 'A', 'D', 'G', 'I', ’L’, ‘ D’] ['x', 'xx', 'xxx', 'xxxx', 'y', 'yy', 'yyy', 'yyyy', 'z', 'zz', 'zzz', 'zzzz'] ['x', 'y', 'z', 'xx', 'yy', 'zz', 'xx', 'yy', 'zz', 'xxxx', 'yyyy', 'zzzz'] [[2], [3], [4], [3], [4], [5], [4], [5], [6]] [[2, 3, 4, 5], [3, 4, 5, 6], [4, 5, 6, 7], [5, 6, 7, 8]] [(1, 1), (2, 1), (3, 1), (1, 2), (2, 2), (3, 2), (1, 3), (2, 3), (3, 3)]"
      ]
    },
    {
      "cell_type": "code",
      "metadata": {
        "colab": {
          "base_uri": "https://localhost:8080/"
        },
        "id": "DLgCZO3UiKI5",
        "outputId": "989b659c-c6fd-4c76-f76a-b50a30fa2a32"
      },
      "source": [
        "#Section 1\n",
        "word=\"AcadGild\"\n",
        "#list Comprehension\n",
        "output_list=[w.upper() for w in list(word)]\n",
        "print(\"Output:\")\n",
        "print(output_list)\n",
        "\n",
        "#Section 2\n",
        "word_1=list('xyz')\n",
        "word_2=[x*n for x in word_1 for n in range(1,5) ]\n",
        "print(word_2)\n",
        "\n",
        "#Section 3\n",
        "word_3=[x*n for n in range(1,5) for x in word_1 ]\n",
        "print(word_3)\n",
        "\n",
        "#Section 4\n",
        "number=[2,3,4]\n",
        "number_1=[[x+n] for x in number for n in range(0,3)]\n",
        "print(number_1)\n",
        "\n",
        "#Section 5\n",
        "number_2=[2,3,4,5]\n",
        "number_3=[[x+n for n in range(0,4)] for x in number_2 ]\n",
        "print(number_3)\n",
        "\n",
        "#Section 6\n",
        "number_4=[1,2,3]\n",
        "number_5= [(b,a) for a in number_4 for b in number_4]\n",
        "print(number_5)"
      ],
      "execution_count": 5,
      "outputs": [
        {
          "output_type": "stream",
          "text": [
            "Output:\n",
            "['A', 'C', 'A', 'D', 'G', 'I', 'L', 'D']\n",
            "['x', 'xx', 'xxx', 'xxxx', 'y', 'yy', 'yyy', 'yyyy', 'z', 'zz', 'zzz', 'zzzz']\n",
            "['x', 'y', 'z', 'xx', 'yy', 'zz', 'xxx', 'yyy', 'zzz', 'xxxx', 'yyyy', 'zzzz']\n",
            "[[2], [3], [4], [3], [4], [5], [4], [5], [6]]\n",
            "[[2, 3, 4, 5], [3, 4, 5, 6], [4, 5, 6, 7], [5, 6, 7, 8]]\n",
            "[(1, 1), (2, 1), (3, 1), (1, 2), (2, 2), (3, 2), (1, 3), (2, 3), (3, 3)]\n"
          ],
          "name": "stdout"
        }
      ]
    }
  ]
}