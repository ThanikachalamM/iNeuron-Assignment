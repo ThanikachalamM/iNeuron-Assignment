{
  "nbformat": 4,
  "nbformat_minor": 0,
  "metadata": {
    "colab": {
      "name": "Numpy assignment.ipynb",
      "provenance": []
    },
    "kernelspec": {
      "name": "python3",
      "display_name": "Python 3"
    }
  },
  "cells": [
    {
      "cell_type": "code",
      "metadata": {
        "id": "t9C5JVeeOn6L"
      },
      "source": [
        ""
      ],
      "execution_count": null,
      "outputs": []
    },
    {
      "cell_type": "markdown",
      "metadata": {
        "id": "hAOZG3z1Oqt2"
      },
      "source": [
        "Write a function so that the columns of the output matrix are powers of the input\r\n",
        "vector.\r\n",
        "The order of the powers is determined by the increasing boolean argument. Specifically, when\r\n",
        "increasing is False, the i-th output column is the input vector raised element-wise to the power\r\n",
        "of N - i - 1.\r\n",
        "HINT: Such a matrix with a geometric progression in each row is named for Alexandre-\r\n",
        "Theophile Vandermonde."
      ]
    },
    {
      "cell_type": "code",
      "metadata": {
        "colab": {
          "base_uri": "https://localhost:8080/"
        },
        "id": "1nHrie_lOwjT",
        "outputId": "cf416a11-0325-4e4b-b389-828a50f53072"
      },
      "source": [
        "#Method - 1\r\n",
        "import numpy as np \r\n",
        "x=np.array([1,2,3,4,5]) \r\n",
        "N=5 \r\n",
        "matrix = np.column_stack([x**(N-i-1) for i in range(N)]) \r\n",
        "print(matrix) \r\n",
        "print(np.linalg.det(matrix))"
      ],
      "execution_count": 1,
      "outputs": [
        {
          "output_type": "stream",
          "text": [
            "[[  1   1   1   1   1]\n",
            " [ 16   8   4   2   1]\n",
            " [ 81  27   9   3   1]\n",
            " [256  64  16   4   1]\n",
            " [625 125  25   5   1]]\n",
            "287.9999999999967\n"
          ],
          "name": "stdout"
        }
      ]
    },
    {
      "cell_type": "code",
      "metadata": {
        "colab": {
          "base_uri": "https://localhost:8080/"
        },
        "id": "uBTrEoeBPKrV",
        "outputId": "e8619227-6f4f-4ae2-93b6-8e3363277c91"
      },
      "source": [
        "#Method - 2\r\n",
        "import numpy as np \r\n",
        "x=np.array([1,2,3,4,5]) \r\n",
        "N=5 \r\n",
        "matrix1 = np.vander(x,N,increasing=False) \r\n",
        "print(matrix1) \r\n",
        "print(np.linalg.det(matrix1))"
      ],
      "execution_count": 2,
      "outputs": [
        {
          "output_type": "stream",
          "text": [
            "[[  1   1   1   1   1]\n",
            " [ 16   8   4   2   1]\n",
            " [ 81  27   9   3   1]\n",
            " [256  64  16   4   1]\n",
            " [625 125  25   5   1]]\n",
            "287.9999999999967\n"
          ],
          "name": "stdout"
        }
      ]
    },
    {
      "cell_type": "markdown",
      "metadata": {
        "id": "jTQBDroXPWwt"
      },
      "source": [
        "Given a sequence of n values x1, x2, ..., xn and a window size k>0, the k-th moving average of\r\n",
        "the given sequence is defined as follows:\r\n",
        "The moving average sequence has n-k+1 elements as shown below.\r\n",
        "The moving averages with k=4 of a ten-value sequence (n=10) is shown below\r\n",
        "i 1 2 3 4 5 6 7 8 9 10\r\n",
        "===== == == == == == == == == == ==\r\n",
        "Input 10 20 30 40 50 60 70 80 90 100\r\n",
        "y1 25 = (10+20+30+40)/4\r\n",
        "y2 35 = (20+30+40+50)/4\r\n",
        "y3 45 = (30+40+50+60)/4\r\n",
        "y4 55 = (40+50+60+70)/4\r\n",
        "y5 65 = (50+60+70+80)/4\r\n",
        "y6 75 = (60+70+80+90)/4\r\n",
        "y7 85 = (70+80+90+100)/4\r\n",
        "Thus, the moving average sequence has n-k+1=10-4+1=7 values.\r\n",
        "Question: Write a function to find moving average in an array over a window:\r\n",
        "Test it over [3, 5, 7, 2, 8, 10, 11, 65, 72, 81, 99, 100, 150] and window of 3."
      ]
    },
    {
      "cell_type": "code",
      "metadata": {
        "colab": {
          "base_uri": "https://localhost:8080/"
        },
        "id": "mwtFbLgXPlOl",
        "outputId": "17049618-7cc2-44b4-b368-8f766c5e6136"
      },
      "source": [
        "#Method-1\r\n",
        "import numpy as np\r\n",
        "def moving_average(a, n=3) :\r\n",
        "    ret = np.cumsum(a, dtype=float)\r\n",
        "    ret[n:] = ret[n:] - ret[:-n]\r\n",
        "    return ret[n - 1:] / n\r\n",
        "a = [3, 5, 7, 2, 8, 10, 11, 65, 72, 81, 99, 100, 150]\r\n",
        "print(moving_average(a, n=3))"
      ],
      "execution_count": 3,
      "outputs": [
        {
          "output_type": "stream",
          "text": [
            "[  5.           4.66666667   5.66666667   6.66666667   9.66666667\n",
            "  28.66666667  49.33333333  72.66666667  84.          93.33333333\n",
            " 116.33333333]\n"
          ],
          "name": "stdout"
        }
      ]
    },
    {
      "cell_type": "code",
      "metadata": {
        "colab": {
          "base_uri": "https://localhost:8080/"
        },
        "id": "qnsug5s9Pv8H",
        "outputId": "5a61a346-030a-413d-b20b-205200e11807"
      },
      "source": [
        "#Method - 2\r\n",
        "import numpy as np\r\n",
        "def moving_average(a, n=3) :\r\n",
        "    asum = np.cumsum(a, dtype=float)\r\n",
        "    asum[n:] = asum[n:] - asum[:-n] \r\n",
        "    return asum[n - 1:] / n\r\n",
        "\r\n",
        "a=[3, 5, 7, 2, 8, 10, 11, 65, 72, 81, 99, 100, 150] \r\n",
        "a1=np.array(a) \r\n",
        "print(np.array(moving_average(a1,n=3)).round(2))\r\n"
      ],
      "execution_count": 4,
      "outputs": [
        {
          "output_type": "stream",
          "text": [
            "[  5.     4.67   5.67   6.67   9.67  28.67  49.33  72.67  84.    93.33\n",
            " 116.33]\n"
          ],
          "name": "stdout"
        }
      ]
    },
    {
      "cell_type": "markdown",
      "metadata": {
        "id": "UAIkUCeaO_Vk"
      },
      "source": [
        ""
      ]
    }
  ]
}