{
  "nbformat": 4,
  "nbformat_minor": 0,
  "metadata": {
    "colab": {
      "name": "Assignment-1.ipynb",
      "provenance": []
    },
    "kernelspec": {
      "name": "python3",
      "display_name": "Python 3"
    }
  },
  "cells": [
    {
      "cell_type": "code",
      "metadata": {
        "id": "BVCD1KuzYHEJ"
      },
      "source": [
        ""
      ],
      "execution_count": null,
      "outputs": []
    },
    {
      "cell_type": "markdown",
      "metadata": {
        "id": "cpku9kvFYV9L"
      },
      "source": [
        "\n",
        "1. Write a program which will find all such numbers which are divisible by 7 but are not a multiple of 5, between 2000 and 3200 (both included). The numbers obtained should be printed in a comma-separated sequence on a single line.\n"
      ]
    },
    {
      "cell_type": "code",
      "metadata": {
        "colab": {
          "base_uri": "https://localhost:8080/"
        },
        "id": "Dz1s1iEeYYbE",
        "outputId": "a2168196-18e0-41a2-e3e5-27a6c7b4de91"
      },
      "source": [
        "nl=[]\n",
        "for x in range(2000, 3201):\n",
        "    if (x%7 == 0) and (x%5 != 0):\n",
        "        nl.append(str(x))\n",
        "print (','.join(nl))\n"
      ],
      "execution_count": 1,
      "outputs": [
        {
          "output_type": "stream",
          "text": [
            "2002,2009,2016,2023,2037,2044,2051,2058,2072,2079,2086,2093,2107,2114,2121,2128,2142,2149,2156,2163,2177,2184,2191,2198,2212,2219,2226,2233,2247,2254,2261,2268,2282,2289,2296,2303,2317,2324,2331,2338,2352,2359,2366,2373,2387,2394,2401,2408,2422,2429,2436,2443,2457,2464,2471,2478,2492,2499,2506,2513,2527,2534,2541,2548,2562,2569,2576,2583,2597,2604,2611,2618,2632,2639,2646,2653,2667,2674,2681,2688,2702,2709,2716,2723,2737,2744,2751,2758,2772,2779,2786,2793,2807,2814,2821,2828,2842,2849,2856,2863,2877,2884,2891,2898,2912,2919,2926,2933,2947,2954,2961,2968,2982,2989,2996,3003,3017,3024,3031,3038,3052,3059,3066,3073,3087,3094,3101,3108,3122,3129,3136,3143,3157,3164,3171,3178,3192,3199\n"
          ],
          "name": "stdout"
        }
      ]
    },
    {
      "cell_type": "markdown",
      "metadata": {
        "id": "3lajGkuvYhTN"
      },
      "source": [
        "Write a Python program to accept the user's first and last name and then getting them printed in the reverse order with a space between first name and last name."
      ]
    },
    {
      "cell_type": "code",
      "metadata": {
        "colab": {
          "base_uri": "https://localhost:8080/"
        },
        "id": "PxxGjxLdYl0m",
        "outputId": "4175a124-5a85-4c46-8ba9-47983c298766"
      },
      "source": [
        "name = input(\"Input your First Name and Last Name  : \")\n",
        "Fn , Ln = name.split(\" \")\n",
        "print (  Ln + \" \" + Fn)\n"
      ],
      "execution_count": 2,
      "outputs": [
        {
          "output_type": "stream",
          "text": [
            "Input your First Name and Last Name  : Thanikachalam Mannangatti\n",
            "Mannangatti Thanikachalam\n"
          ],
          "name": "stdout"
        }
      ]
    },
    {
      "cell_type": "markdown",
      "metadata": {
        "id": "Xzn2TG36YvGz"
      },
      "source": [
        "Write a Python program to find the volume of a sphere with diameter 12 cm. \n",
        "Formula: V=4/3 * π * r^3\n"
      ]
    },
    {
      "cell_type": "code",
      "metadata": {
        "colab": {
          "base_uri": "https://localhost:8080/"
        },
        "id": "TucroudWYyWb",
        "outputId": "e0517802-0284-455c-ab7e-1f991a886ee3"
      },
      "source": [
        "import math\n",
        "pi = math.pi\n",
        "r = float(input('Please Enter the Radius of a Sphere: '))\n",
        "#r = float(12/2)\n",
        "v = (float(4/3)*(pi)*(r)**3)\n",
        "print(v)\n"
      ],
      "execution_count": 3,
      "outputs": [
        {
          "output_type": "stream",
          "text": [
            "Please Enter the Radius of a Sphere: 6\n",
            "904.7786842338603\n"
          ],
          "name": "stdout"
        }
      ]
    }
  ]
}