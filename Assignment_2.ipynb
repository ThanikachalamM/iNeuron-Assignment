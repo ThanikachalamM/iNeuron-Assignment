{
  "nbformat": 4,
  "nbformat_minor": 0,
  "metadata": {
    "colab": {
      "name": "Assignment-2.ipynb",
      "provenance": []
    },
    "kernelspec": {
      "name": "python3",
      "display_name": "Python 3"
    }
  },
  "cells": [
    {
      "cell_type": "code",
      "metadata": {
        "id": "7d-kxSWkR-yT"
      },
      "source": [
        ""
      ],
      "execution_count": null,
      "outputs": []
    },
    {
      "cell_type": "code",
      "metadata": {
        "id": "asBlQWphSUEb"
      },
      "source": [
        ""
      ],
      "execution_count": null,
      "outputs": []
    },
    {
      "cell_type": "markdown",
      "metadata": {
        "id": "u0bpwh_wSYf2"
      },
      "source": [
        "1. Create the below pattern using nested for loop in Python.\n",
        "*\n",
        "* *\n",
        "* * *\n",
        "* * * *\n",
        "* * * * *\n",
        "* * * *\n",
        "* * *\n",
        "* *\n",
        "*\n"
      ]
    },
    {
      "cell_type": "code",
      "metadata": {
        "colab": {
          "base_uri": "https://localhost:8080/"
        },
        "id": "XdhpmSl9SxPM",
        "outputId": "4199d019-1ff2-4e55-ad3a-dfd92608a1de"
      },
      "source": [
        "a=int(input(\"Enter the number of row's - Only Odd numbers: \"))\n",
        "for i in range(1,3):\n",
        "   if i == 1: \n",
        "    for j in range(1,a//2+1):\n",
        "        print('*'*j)\n",
        "   else:\n",
        "    print('*'*(a//2+1)) \n",
        "    for k in range(a//2,1,-1):\n",
        "        print('*'*k)\n",
        "        "
      ],
      "execution_count": 2,
      "outputs": [
        {
          "output_type": "stream",
          "text": [
            "Enter the number of row's - Only Odd numbers: 25\n",
            "*\n",
            "**\n",
            "***\n",
            "****\n",
            "*****\n",
            "******\n",
            "*******\n",
            "********\n",
            "*********\n",
            "**********\n",
            "***********\n",
            "************\n",
            "*************\n",
            "************\n",
            "***********\n",
            "**********\n",
            "*********\n",
            "********\n",
            "*******\n",
            "******\n",
            "*****\n",
            "****\n",
            "***\n",
            "**\n"
          ],
          "name": "stdout"
        }
      ]
    },
    {
      "cell_type": "markdown",
      "metadata": {
        "id": "wEeIFhJzTJzJ"
      },
      "source": [
        "2. Write a Python program to reverse a word after accepting the input from the user.\n",
        "Input word: ineuron\n",
        "Output: norueni\n"
      ]
    },
    {
      "cell_type": "code",
      "metadata": {
        "colab": {
          "base_uri": "https://localhost:8080/"
        },
        "id": "hHC7PhnOTOu2",
        "outputId": "989dc42e-5c8c-4be4-9714-f66a325872be"
      },
      "source": [
        "a=input(\"Enter your string: \")\n",
        "print(a[::-1])\n",
        "\n",
        "print(\"\".join(reversed(a)))\n",
        "\n"
      ],
      "execution_count": 3,
      "outputs": [
        {
          "output_type": "stream",
          "text": [
            "Enter your string: Hello\n",
            "olleH\n",
            "olleH\n"
          ],
          "name": "stdout"
        }
      ]
    },
    {
      "cell_type": "code",
      "metadata": {
        "id": "0qgvJbRPSpat"
      },
      "source": [
        ""
      ],
      "execution_count": null,
      "outputs": []
    }
  ]
}